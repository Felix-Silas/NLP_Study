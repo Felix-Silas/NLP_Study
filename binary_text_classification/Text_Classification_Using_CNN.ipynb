{
  "nbformat": 4,
  "nbformat_minor": 0,
  "metadata": {
    "colab": {
      "provenance": []
    },
    "kernelspec": {
      "name": "python3",
      "display_name": "Python 3"
    },
    "language_info": {
      "name": "python"
    }
  },
  "cells": [
    {
      "cell_type": "code",
      "execution_count": 5,
      "metadata": {
        "id": "0CYV8Vw02MsU"
      },
      "outputs": [],
      "source": [
        "from tensorflow.keras.datasets import imdb\n",
        "\n",
        "max_features = 10000 #해당 데이터셋에서 빈도수 기준 상위 10000개 단어만 사용\n",
        "(x_train, y_train), (x_test, y_test) = imdb.load_data(num_words=max_features)"
      ]
    },
    {
      "cell_type": "code",
      "source": [
        "len(x_train[0])"
      ],
      "metadata": {
        "colab": {
          "base_uri": "https://localhost:8080/"
        },
        "id": "vvv6uxOwXAFE",
        "outputId": "c7cd5e85-4539-4891-b8a7-7a6b688fa94c"
      },
      "execution_count": 10,
      "outputs": [
        {
          "output_type": "execute_result",
          "data": {
            "text/plain": [
              "218"
            ]
          },
          "metadata": {},
          "execution_count": 10
        }
      ]
    },
    {
      "cell_type": "code",
      "source": [
        "x_train.shape"
      ],
      "metadata": {
        "colab": {
          "base_uri": "https://localhost:8080/"
        },
        "id": "FXlGIWRnWupT",
        "outputId": "c1afde28-eab3-4881-e859-2de423ecb0de"
      },
      "execution_count": 7,
      "outputs": [
        {
          "output_type": "execute_result",
          "data": {
            "text/plain": [
              "(25000,)"
            ]
          },
          "metadata": {},
          "execution_count": 7
        }
      ]
    },
    {
      "cell_type": "code",
      "source": [
        "from tensorflow.keras.preprocessing import sequence\n",
        "\n",
        "max_len = 500 # 문서의 길이 500으로 통일\n",
        "\n",
        "# 최대 길이로 패딩 진행\n",
        "x_train = sequence.pad_sequences(x_train, maxlen=max_len)\n",
        "x_test = sequence.pad_sequences(x_test, maxlen=max_len)"
      ],
      "metadata": {
        "id": "4AobP0Gq2WnN"
      },
      "execution_count": 12,
      "outputs": []
    },
    {
      "cell_type": "code",
      "source": [
        "x_train"
      ],
      "metadata": {
        "colab": {
          "base_uri": "https://localhost:8080/"
        },
        "id": "YhVqFe7HW1Hl",
        "outputId": "d0b3ab7a-7646-4512-9721-e53c08685c67"
      },
      "execution_count": 13,
      "outputs": [
        {
          "output_type": "execute_result",
          "data": {
            "text/plain": [
              "array([[   0,    0,    0, ...,   19,  178,   32],\n",
              "       [   0,    0,    0, ...,   16,  145,   95],\n",
              "       [   0,    0,    0, ...,    7,  129,  113],\n",
              "       ...,\n",
              "       [   0,    0,    0, ...,    4, 3586,    2],\n",
              "       [   0,    0,    0, ...,   12,    9,   23],\n",
              "       [   0,    0,    0, ...,  204,  131,    9]], dtype=int32)"
            ]
          },
          "metadata": {},
          "execution_count": 13
        }
      ]
    },
    {
      "cell_type": "code",
      "source": [
        "len(x_train[0])"
      ],
      "metadata": {
        "colab": {
          "base_uri": "https://localhost:8080/"
        },
        "id": "u6-S3YgCXJlP",
        "outputId": "fb2f74e7-ca1c-484c-91a2-f01fd04acb68"
      },
      "execution_count": 14,
      "outputs": [
        {
          "output_type": "execute_result",
          "data": {
            "text/plain": [
              "500"
            ]
          },
          "metadata": {},
          "execution_count": 14
        }
      ]
    },
    {
      "cell_type": "code",
      "source": [
        "print(x_train.shape)"
      ],
      "metadata": {
        "colab": {
          "base_uri": "https://localhost:8080/"
        },
        "id": "LGg46eyQ3EjT",
        "outputId": "c70a6f3a-b5b8-4775-a685-de4c6caa2ac7"
      },
      "execution_count": 15,
      "outputs": [
        {
          "output_type": "stream",
          "name": "stdout",
          "text": [
            "(25000, 500)\n"
          ]
        }
      ]
    },
    {
      "cell_type": "code",
      "source": [
        "print(y_train.shape)"
      ],
      "metadata": {
        "colab": {
          "base_uri": "https://localhost:8080/"
        },
        "id": "ulsx7dnDEoEq",
        "outputId": "c8d82812-fc76-4403-a9ff-0201f21b88c4"
      },
      "execution_count": 16,
      "outputs": [
        {
          "output_type": "stream",
          "name": "stdout",
          "text": [
            "(25000,)\n"
          ]
        }
      ]
    },
    {
      "cell_type": "code",
      "source": [
        "y_train"
      ],
      "metadata": {
        "colab": {
          "base_uri": "https://localhost:8080/"
        },
        "id": "4Akc6esPF5XG",
        "outputId": "045b363c-33ff-46f4-a796-0567add5ceca"
      },
      "execution_count": 17,
      "outputs": [
        {
          "output_type": "execute_result",
          "data": {
            "text/plain": [
              "array([1, 0, 0, ..., 0, 1, 0])"
            ]
          },
          "metadata": {},
          "execution_count": 17
        }
      ]
    },
    {
      "cell_type": "code",
      "source": [
        "# y 관련 원 핫 인코딩\n",
        "from tensorflow.keras.utils import to_categorical\n",
        "\n",
        "y_train_one_hot = to_categorical(y_train)\n",
        "y_test_one_hot = to_categorical(y_test)\n",
        "\n",
        "y_train_one_hot"
      ],
      "metadata": {
        "colab": {
          "base_uri": "https://localhost:8080/"
        },
        "id": "9l2woXiyGOQa",
        "outputId": "58480066-cc9a-4485-bc5f-a5a480e0d956"
      },
      "execution_count": 18,
      "outputs": [
        {
          "output_type": "execute_result",
          "data": {
            "text/plain": [
              "array([[0., 1.],\n",
              "       [1., 0.],\n",
              "       [1., 0.],\n",
              "       ...,\n",
              "       [1., 0.],\n",
              "       [0., 1.],\n",
              "       [1., 0.]], dtype=float32)"
            ]
          },
          "metadata": {},
          "execution_count": 18
        }
      ]
    },
    {
      "cell_type": "markdown",
      "source": [
        "# CNN\n",
        "## 텍스트 데이터를 분석하더라도 기본적으로 3차원 형태로 표현해야 한다.\n",
        "## (n, m, c) 형태로 표현\n",
        "### n = 문서의 길이를 의미함. 즉, 문서를 구성하는 최대 단어 수\n",
        "### m = 한 단어를 표현하는 임베딩 벡터의 차원 (각 벡터가 가지고 있는 벡터 차원을 의미함)\n",
        "### c = 이미지 데이터에서 채널 수, 텍스트 데이터는 1"
      ],
      "metadata": {
        "id": "trbG0U1hXz1-"
      }
    },
    {
      "cell_type": "code",
      "source": [
        "from tensorflow.keras.models import Sequential\n",
        "from tensorflow.keras import layers\n",
        "\n",
        "#모델 구축\n",
        "model = Sequential() # 레이어를 선형으로 쌓는 데 사용\n",
        "\n",
        "model.add(layers.Embedding(max_features, 128, input_length=max_len)) # 텍스트 데이터를 임베딩 벡터로\n",
        "\n",
        "# 1차원 합성곱 레이어를 추가하는 부분입니다. 이 레이어는 입력 시퀀스의 지역적 패턴을 캡처하는 데 도움이 됩니다. 레이어에는 32개의 필터, 7의 커널 크기, ReLU 활성화 함수가 사용됩니다.\n",
        "model.add(layers.Conv1D(32, 7, activation='relu')) # 필터수 : 32 / 필터 세로 : 7 / 가로는 128로 고정\n",
        "\n",
        "# 텍스트 분석에서는 필터가 위아래로만 움직이기 때문에, Conv1D 클래스 사용함. 입력 볼륨의 공간 차원을 다운 샘플링하는 데 사용됨\n",
        "model.add(layers.MaxPool1D(5))  # 5: 풀링 필터의 세로의 길이 / 가로 길이는 1로 고정임 / stride는 자동으로 5로 고정됨\n",
        "\n",
        "model.add(layers.Flatten())\n",
        "\n",
        "model.add(layers.Dense(32, activation='relu')) # 32차원으로 축소\n",
        "\n",
        "model.add(layers.Dense(2, activation='softmax')) # 출력 레이어: 2개의 뉴런이 있고 (이진 분류인 경우), softmax 활성화 함수를 사용하여 각 클래스에 대한 확률을 얻음.\n",
        "\n",
        "model.summary() # 모델의 요약을 출력"
      ],
      "metadata": {
        "colab": {
          "base_uri": "https://localhost:8080/"
        },
        "id": "tzY9j1R32lZY",
        "outputId": "958e9222-027c-4744-e034-be461fabf09b"
      },
      "execution_count": 19,
      "outputs": [
        {
          "output_type": "stream",
          "name": "stdout",
          "text": [
            "Model: \"sequential\"\n",
            "_________________________________________________________________\n",
            " Layer (type)                Output Shape              Param #   \n",
            "=================================================================\n",
            " embedding (Embedding)       (None, 500, 128)          1280000   \n",
            "                                                                 \n",
            " conv1d (Conv1D)             (None, 494, 32)           28704     \n",
            "                                                                 \n",
            " max_pooling1d (MaxPooling1  (None, 98, 32)            0         \n",
            " D)                                                              \n",
            "                                                                 \n",
            " flatten (Flatten)           (None, 3136)              0         \n",
            "                                                                 \n",
            " dense (Dense)               (None, 32)                100384    \n",
            "                                                                 \n",
            " dense_1 (Dense)             (None, 2)                 66        \n",
            "                                                                 \n",
            "=================================================================\n",
            "Total params: 1409154 (5.38 MB)\n",
            "Trainable params: 1409154 (5.38 MB)\n",
            "Non-trainable params: 0 (0.00 Byte)\n",
            "_________________________________________________________________\n"
          ]
        }
      ]
    },
    {
      "cell_type": "code",
      "source": [
        "import numpy as np\n",
        "import tensorflow as tf\n",
        "from tensorflow.keras.optimizers import RMSprop\n",
        "\n",
        "\n",
        "model.compile(optimizer=RMSprop(learning_rate=0.001), loss='binary_crossentropy', metrics=['acc']) # 분류 문제이기 때문에 크로스 엔트로피로 설정하고, RMSprop 옵티마이저를 사용한다.\n",
        "\n",
        "history = model.fit(x_train, y_train_one_hot, epochs=10, batch_size=128, validation_split=0.2)"
      ],
      "metadata": {
        "colab": {
          "base_uri": "https://localhost:8080/"
        },
        "id": "DR1HEhCl2ttv",
        "outputId": "6f39e9ff-1228-4bca-9a02-6f20d1c48208"
      },
      "execution_count": 20,
      "outputs": [
        {
          "output_type": "stream",
          "name": "stdout",
          "text": [
            "Epoch 1/10\n",
            "157/157 [==============================] - 80s 504ms/step - loss: 0.6468 - acc: 0.5972 - val_loss: 0.4381 - val_acc: 0.8106\n",
            "Epoch 2/10\n",
            "157/157 [==============================] - 76s 481ms/step - loss: 0.3533 - acc: 0.8470 - val_loss: 0.4553 - val_acc: 0.8060\n",
            "Epoch 3/10\n",
            "157/157 [==============================] - 67s 426ms/step - loss: 0.2466 - acc: 0.9036 - val_loss: 0.2786 - val_acc: 0.8864\n",
            "Epoch 4/10\n",
            "157/157 [==============================] - 65s 412ms/step - loss: 0.1889 - acc: 0.9264 - val_loss: 0.2991 - val_acc: 0.8820\n",
            "Epoch 5/10\n",
            "157/157 [==============================] - 68s 434ms/step - loss: 0.1465 - acc: 0.9460 - val_loss: 0.5011 - val_acc: 0.8240\n",
            "Epoch 6/10\n",
            "157/157 [==============================] - 68s 435ms/step - loss: 0.1082 - acc: 0.9617 - val_loss: 0.3473 - val_acc: 0.8772\n",
            "Epoch 7/10\n",
            "157/157 [==============================] - 64s 411ms/step - loss: 0.0730 - acc: 0.9765 - val_loss: 0.4210 - val_acc: 0.8714\n",
            "Epoch 8/10\n",
            "157/157 [==============================] - 67s 425ms/step - loss: 0.0471 - acc: 0.9858 - val_loss: 0.4015 - val_acc: 0.8830\n",
            "Epoch 9/10\n",
            "157/157 [==============================] - 73s 468ms/step - loss: 0.0278 - acc: 0.9922 - val_loss: 0.5904 - val_acc: 0.8556\n",
            "Epoch 10/10\n",
            "157/157 [==============================] - 68s 431ms/step - loss: 0.0168 - acc: 0.9947 - val_loss: 0.5179 - val_acc: 0.8846\n"
          ]
        }
      ]
    },
    {
      "cell_type": "code",
      "source": [
        "import matplotlib.pyplot as plt\n",
        "plt.plot(history.history['loss'])\n",
        "plt.plot(history.history['val_loss'])\n",
        "plt.xlabel('epoch')\n",
        "plt.ylabel('loss')\n",
        "plt.legend(['train','val'])\n",
        "plt.show()\n",
        "\n",
        "test_loss, test_acc = model.evaluate(x_test,y_test_one_hot)\n",
        "\n",
        "test_acc"
      ],
      "metadata": {
        "colab": {
          "base_uri": "https://localhost:8080/",
          "height": 486
        },
        "id": "qwsqlDJR5r4n",
        "outputId": "7cf7b74e-c03d-415d-ca44-21f5a8c99a66"
      },
      "execution_count": 21,
      "outputs": [
        {
          "output_type": "display_data",
          "data": {
            "text/plain": [
              "<Figure size 640x480 with 1 Axes>"
            ],
            "image/png": "[encoded data removed]"
          },
          "metadata": {}
        },
        {
          "output_type": "stream",
          "name": "stdout",
          "text": [
            "782/782 [==============================] - 21s 27ms/step - loss: 0.5624 - acc: 0.8721\n"
          ]
        },
        {
          "output_type": "execute_result",
          "data": {
            "text/plain": [
              "0.8721200227737427"
            ]
          },
          "metadata": {},
          "execution_count": 21
        }
      ]
    }
  ]
}