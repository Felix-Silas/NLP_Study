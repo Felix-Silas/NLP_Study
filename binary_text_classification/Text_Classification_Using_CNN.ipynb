{
  "nbformat": 4,
  "nbformat_minor": 0,
  "metadata": {
    "colab": {
      "provenance": []
    },
    "kernelspec": {
      "name": "python3",
      "display_name": "Python 3"
    },
    "language_info": {
      "name": "python"
    }
  },
  "cells": [
    {
      "cell_type": "code",
      "execution_count": null,
      "metadata": {
        "id": "0CYV8Vw02MsU"
      },
      "outputs": [],
      "source": [
        "from tensorflow.keras.datasets import imdb\n",
        "\n",
        "max_features = 10000 #해당 데이터셋에서 빈도수 기준 상위 10000개 단어만 사용\n",
        "(x_train, y_train), (x_test, y_test) = imdb.load_data(num_words=max_features)"
      ]
    },
    {
      "cell_type": "code",
      "source": [
        "from tensorflow.keras.preprocessing import sequence\n",
        "\n",
        "max_len = 500 # 문서의 길이 500으로 통일\n",
        "\n",
        "# 최대 길이로 패딩 진행\n",
        "x_train = sequence.pad_sequences(x_train, maxlen=max_len)\n",
        "x_test = sequence.pad_sequences(x_test, maxlen=max_len)"
      ],
      "metadata": {
        "id": "4AobP0Gq2WnN"
      },
      "execution_count": null,
      "outputs": []
    },
    {
      "cell_type": "code",
      "source": [
        "print(x_train.shape)"
      ],
      "metadata": {
        "colab": {
          "base_uri": "https://localhost:8080/"
        },
        "id": "LGg46eyQ3EjT",
        "outputId": "40d56ca1-cf48-4467-c8b6-08153cdd42d3"
      },
      "execution_count": null,
      "outputs": [
        {
          "output_type": "stream",
          "name": "stdout",
          "text": [
            "(25000, 500)\n"
          ]
        }
      ]
    },
    {
      "cell_type": "code",
      "source": [
        "print(y_train.shape)"
      ],
      "metadata": {
        "colab": {
          "base_uri": "https://localhost:8080/"
        },
        "id": "ulsx7dnDEoEq",
        "outputId": "4c219e9e-1fc8-4126-feb1-b9c687fbf6ac"
      },
      "execution_count": null,
      "outputs": [
        {
          "output_type": "stream",
          "name": "stdout",
          "text": [
            "(25000,)\n"
          ]
        }
      ]
    },
    {
      "cell_type": "code",
      "source": [
        "y_train"
      ],
      "metadata": {
        "colab": {
          "base_uri": "https://localhost:8080/"
        },
        "id": "4Akc6esPF5XG",
        "outputId": "b01fbf4e-80a3-4d03-83df-9e205cfc6db8"
      },
      "execution_count": null,
      "outputs": [
        {
          "output_type": "execute_result",
          "data": {
            "text/plain": [
              "array([1, 0, 0, ..., 0, 1, 0])"
            ]
          },
          "metadata": {},
          "execution_count": 27
        }
      ]
    },
    {
      "cell_type": "code",
      "source": [
        "print(x_test.shape)"
      ],
      "metadata": {
        "colab": {
          "base_uri": "https://localhost:8080/"
        },
        "id": "V4SKfoP3EKE8",
        "outputId": "77d61761-bae0-47e6-b41e-348fea8514b0"
      },
      "execution_count": null,
      "outputs": [
        {
          "output_type": "stream",
          "name": "stdout",
          "text": [
            "(25000, 500)\n"
          ]
        }
      ]
    },
    {
      "cell_type": "code",
      "source": [
        "# 원 핫 인코딩\n",
        "from tensorflow.keras.utils import to_categorical\n",
        "\n",
        "y_train_one_hot = to_categorical(y_train)\n",
        "y_test_one_hot = to_categorical(y_test)\n",
        "\n",
        "y_train_one_hot"
      ],
      "metadata": {
        "colab": {
          "base_uri": "https://localhost:8080/"
        },
        "id": "9l2woXiyGOQa",
        "outputId": "277ae318-86df-42cf-9cff-3c31d67a8181"
      },
      "execution_count": null,
      "outputs": [
        {
          "output_type": "execute_result",
          "data": {
            "text/plain": [
              "array([[0., 1.],\n",
              "       [1., 0.],\n",
              "       [1., 0.],\n",
              "       ...,\n",
              "       [1., 0.],\n",
              "       [0., 1.],\n",
              "       [1., 0.]], dtype=float32)"
            ]
          },
          "metadata": {},
          "execution_count": 30
        }
      ]
    },
    {
      "cell_type": "code",
      "source": [
        "from tensorflow.keras.models import Sequential\n",
        "from tensorflow.keras import layers\n",
        "\n",
        "#모델 구축\n",
        "model = Sequential()\n",
        "model.add(layers.Embedding(max_features, 128, input_length=max_len)) # 텍스트 데이터를 임베딩 벡터로 - (500 x 128 차원)\n",
        "model.add(layers.Conv1D(32, 7, activation='relu')) # 필터수 : 32 / 필터 세로 : 7 / 가로는 128로 고정\n",
        "model.add(layers.MaxPool1D(5))  #5 : 풀링 필터의 세로의 길이 / 가로 길이는 1로 고정임 /  stride는 자동으로 5로 고정됨\n",
        "model.add(layers.Flatten())\n",
        "model.add(layers.Dense(32, activation='relu'))\n",
        "model.add(layers.Dense(2, activation='softmax'))\n",
        "\n",
        "model.summary()"
      ],
      "metadata": {
        "colab": {
          "base_uri": "https://localhost:8080/"
        },
        "id": "tzY9j1R32lZY",
        "outputId": "b3967fce-6579-43f2-ad62-03f5cc93c437"
      },
      "execution_count": null,
      "outputs": [
        {
          "output_type": "stream",
          "name": "stdout",
          "text": [
            "Model: \"sequential_1\"\n",
            "_________________________________________________________________\n",
            " Layer (type)                Output Shape              Param #   \n",
            "=================================================================\n",
            " embedding_1 (Embedding)     (None, 500, 128)          1280000   \n",
            "                                                                 \n",
            " conv1d_1 (Conv1D)           (None, 494, 32)           28704     \n",
            "                                                                 \n",
            " max_pooling1d_1 (MaxPoolin  (None, 98, 32)            0         \n",
            " g1D)                                                            \n",
            "                                                                 \n",
            " flatten_1 (Flatten)         (None, 3136)              0         \n",
            "                                                                 \n",
            " dense_2 (Dense)             (None, 32)                100384    \n",
            "                                                                 \n",
            " dense_3 (Dense)             (None, 2)                 66        \n",
            "                                                                 \n",
            "=================================================================\n",
            "Total params: 1409154 (5.38 MB)\n",
            "Trainable params: 1409154 (5.38 MB)\n",
            "Non-trainable params: 0 (0.00 Byte)\n",
            "_________________________________________________________________\n"
          ]
        }
      ]
    },
    {
      "cell_type": "code",
      "source": [
        "import numpy as np\n",
        "import tensorflow as tf\n",
        "from tensorflow.keras.optimizers import RMSprop\n",
        "\n",
        "\n",
        "model.compile(optimizer=RMSprop(learning_rate=0.001), loss='binary_crossentropy', metrics=['acc']) # 분류 문제이기 때문에 크로스 엔트로피로 설정하고, RMSprop 옵티마이저를 사용한다.\n",
        "\n",
        "history = model.fit(x_train, y_train_one_hot, epochs=10, batch_size=128, validation_split=0.2)"
      ],
      "metadata": {
        "colab": {
          "base_uri": "https://localhost:8080/"
        },
        "id": "DR1HEhCl2ttv",
        "outputId": "0cc1a4c7-531d-4db9-dc64-6437363a7d01"
      },
      "execution_count": null,
      "outputs": [
        {
          "output_type": "stream",
          "name": "stdout",
          "text": [
            "Epoch 1/10\n",
            "157/157 [==============================] - 67s 418ms/step - loss: 0.6684 - acc: 0.5719 - val_loss: 0.5658 - val_acc: 0.7128\n",
            "Epoch 2/10\n",
            "157/157 [==============================] - 64s 409ms/step - loss: 0.3767 - acc: 0.8334 - val_loss: 0.3699 - val_acc: 0.8422\n",
            "Epoch 3/10\n",
            "157/157 [==============================] - 69s 439ms/step - loss: 0.2566 - acc: 0.8984 - val_loss: 0.2858 - val_acc: 0.8804\n",
            "Epoch 4/10\n",
            "157/157 [==============================] - 65s 414ms/step - loss: 0.1987 - acc: 0.9231 - val_loss: 0.4469 - val_acc: 0.8278\n",
            "Epoch 5/10\n",
            "157/157 [==============================] - 64s 410ms/step - loss: 0.1574 - acc: 0.9425 - val_loss: 0.2987 - val_acc: 0.8844\n",
            "Epoch 6/10\n",
            "157/157 [==============================] - 66s 419ms/step - loss: 0.1162 - acc: 0.9589 - val_loss: 0.3330 - val_acc: 0.8812\n",
            "Epoch 7/10\n",
            "157/157 [==============================] - 65s 416ms/step - loss: 0.0812 - acc: 0.9732 - val_loss: 0.3813 - val_acc: 0.8768\n",
            "Epoch 8/10\n",
            "157/157 [==============================] - 65s 413ms/step - loss: 0.0531 - acc: 0.9829 - val_loss: 0.4037 - val_acc: 0.8788\n",
            "Epoch 9/10\n",
            "157/157 [==============================] - 68s 434ms/step - loss: 0.0291 - acc: 0.9919 - val_loss: 0.4666 - val_acc: 0.8780\n",
            "Epoch 10/10\n",
            "157/157 [==============================] - 65s 411ms/step - loss: 0.0189 - acc: 0.9948 - val_loss: 0.6758 - val_acc: 0.8544\n"
          ]
        }
      ]
    },
    {
      "cell_type": "code",
      "source": [
        "import matplotlib.pyplot as plt\n",
        "plt.plot(history.history['loss'])\n",
        "plt.plot(history.history['val_loss'])\n",
        "plt.xlabel('epoch')\n",
        "plt.ylabel('loss')\n",
        "plt.legend(['train','val'])\n",
        "plt.show()\n",
        "\n",
        "test_loss, test_acc = model.evaluate(x_test,y_test_one_hot)\n",
        "\n",
        "test_acc"
      ],
      "metadata": {
        "colab": {
          "base_uri": "https://localhost:8080/",
          "height": 487
        },
        "id": "qwsqlDJR5r4n",
        "outputId": "80c7c1f4-959b-4732-bc12-57e0ef97069b"
      },
      "execution_count": null,
      "outputs": [
        {
          "output_type": "display_data",
          "data": {
            "text/plain": [
              "<Figure size 640x480 with 1 Axes>"
            ],
            "image/png": "[encoded data removed]"
          },
          "metadata": {}
        },
        {
          "output_type": "stream",
          "name": "stdout",
          "text": [
            "782/782 [==============================] - 20s 26ms/step - loss: 0.7456 - acc: 0.8384\n"
          ]
        },
        {
          "output_type": "execute_result",
          "data": {
            "text/plain": [
              "0.8383600115776062"
            ]
          },
          "metadata": {},
          "execution_count": 18
        }
      ]
    }
  ]
}