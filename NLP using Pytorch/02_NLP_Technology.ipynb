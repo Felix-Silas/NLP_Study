{
  "nbformat": 4,
  "nbformat_minor": 0,
  "metadata": {
    "colab": {
      "provenance": []
    },
    "kernelspec": {
      "name": "python3",
      "display_name": "Python 3"
    },
    "language_info": {
      "name": "python"
    }
  },
  "cells": [
    {
      "cell_type": "markdown",
      "source": [
        "# 텍스트 토큰화"
      ],
      "metadata": {
        "id": "2AO_VcOU9Svu"
      }
    },
    {
      "cell_type": "code",
      "execution_count": 3,
      "metadata": {
        "colab": {
          "base_uri": "https://localhost:8080/"
        },
        "id": "48jiBj068--7",
        "outputId": "ab1a4c7c-9519-422e-bf20-9324fffce458"
      },
      "outputs": [
        {
          "output_type": "stream",
          "name": "stdout",
          "text": [
            "['mary', ',', 'do', \"n't\", 'slap', 'the', 'gree', 'witch', '.']\n"
          ]
        }
      ],
      "source": [
        "import spacy\n",
        "nlp = spacy.load(\"en_core_web_sm\")\n",
        "text = \"Mary, don't slap the gree witch.\"\n",
        "print([str(token) for token in nlp(text.lower())])"
      ]
    },
    {
      "cell_type": "code",
      "source": [
        "from nltk.tokenize import TweetTokenizer\n",
        "\n",
        "tweet = u\"Snow White and the Seven Degrees #MakeAMovieCold@midnight:-)\"\n",
        "tokenizer = TweetTokenizer()\n",
        "print(tokenizer.tokenize(tweet.lower()))"
      ],
      "metadata": {
        "colab": {
          "base_uri": "https://localhost:8080/"
        },
        "id": "LBNG5Z-19RyE",
        "outputId": "2cf57cae-95a7-4a67-af1b-97e73da0aef6"
      },
      "execution_count": 4,
      "outputs": [
        {
          "output_type": "stream",
          "name": "stdout",
          "text": [
            "['snow', 'white', 'and', 'the', 'seven', 'degrees', '#makeamoviecold', '@midnight', ':-)']\n"
          ]
        }
      ]
    },
    {
      "cell_type": "markdown",
      "source": [
        "# n-그램 (유니그램, 바이그램, 트라이그램...)"
      ],
      "metadata": {
        "id": "9F5ACfdS_VPR"
      }
    },
    {
      "cell_type": "code",
      "source": [
        "def n_grams(text, n):\n",
        "       return [text[i:i+n] for i in range(len(text) - n + 1)]\n",
        "\n",
        "cleaned = ['mary', ',', \"n't\", 'slap', 'gree', 'witch', '.']\n",
        "print(n_grams(cleaned, 3))"
      ],
      "metadata": {
        "colab": {
          "base_uri": "https://localhost:8080/"
        },
        "id": "IxdIs5rN98i3",
        "outputId": "191cec48-c4b9-40bd-8a47-b9a05efcedf7"
      },
      "execution_count": 6,
      "outputs": [
        {
          "output_type": "stream",
          "name": "stdout",
          "text": [
            "[['mary', ',', \"n't\"], [',', \"n't\", 'slap'], [\"n't\", 'slap', 'gree'], ['slap', 'gree', 'witch'], ['gree', 'witch', '.']]\n"
          ]
        }
      ]
    },
    {
      "cell_type": "markdown",
      "source": [
        "# 표제어와 어간\n",
        "## 표제어 추출 lemmatization"
      ],
      "metadata": {
        "id": "FXUtQqdZAS8O"
      }
    },
    {
      "cell_type": "code",
      "source": [
        "nlp = spacy.load(\"en_core_web_sm\")\n",
        "doc = nlp(u\"he was running late\")\n",
        "for token in doc:\n",
        "    print(\"{} --> {}\".format(token, token.lemma_))"
      ],
      "metadata": {
        "colab": {
          "base_uri": "https://localhost:8080/"
        },
        "id": "Ld3N96X4_nxK",
        "outputId": "b2c92740-b1b4-4238-b096-965f0637de01"
      },
      "execution_count": 7,
      "outputs": [
        {
          "output_type": "stream",
          "name": "stdout",
          "text": [
            "he --> he\n",
            "was --> be\n",
            "running --> run\n",
            "late --> late\n"
          ]
        }
      ]
    },
    {
      "cell_type": "markdown",
      "source": [
        "# 단어 분류하기: 품사 태깅 (part-of-speech (POS) tagging)"
      ],
      "metadata": {
        "id": "S2yEu3nJA2_s"
      }
    },
    {
      "cell_type": "code",
      "source": [
        "nlp = spacy.load(\"en_core_web_sm\")\n",
        "doc = nlp(u\"Mary slapped the green witch.\")\n",
        "for token in doc:\n",
        "    print(\"{} --> {}\".format(token, token.pos_))"
      ],
      "metadata": {
        "colab": {
          "base_uri": "https://localhost:8080/"
        },
        "id": "56ay-FHXAk4m",
        "outputId": "22db4b7e-f4e0-4dcf-ba19-31630212d944"
      },
      "execution_count": 8,
      "outputs": [
        {
          "output_type": "stream",
          "name": "stdout",
          "text": [
            "Mary --> PROPN\n",
            "slapped --> VERB\n",
            "the --> DET\n",
            "green --> ADJ\n",
            "witch --> NOUN\n",
            ". --> PUNCT\n"
          ]
        }
      ]
    },
    {
      "cell_type": "markdown",
      "source": [
        "# 청크 나누기(chunking)와 부문 구문 분석(shallow parsing)\n",
        "## chunk: 하나의 의미가 있는 말 덩어리\n",
        "# 개체명(named entity) 인식"
      ],
      "metadata": {
        "id": "56EeZCXiA3Vw"
      }
    },
    {
      "cell_type": "code",
      "source": [
        "nlp = spacy.load(\"en_core_web_sm\")\n",
        "doc = nlp(u\"Mary slapped the green witch.\")\n",
        "for chunk in doc.noun_chunks:\n",
        "    print(\"{} --> {}\".format(chunk, chunk.label_))"
      ],
      "metadata": {
        "colab": {
          "base_uri": "https://localhost:8080/"
        },
        "id": "fNvJZvMnBSG1",
        "outputId": "0f6ad9c0-e2f3-4bb0-b2dd-7e14f1c01910"
      },
      "execution_count": 9,
      "outputs": [
        {
          "output_type": "stream",
          "name": "stdout",
          "text": [
            "Mary --> NP\n",
            "the green witch --> NP\n"
          ]
        }
      ]
    }
  ]
}