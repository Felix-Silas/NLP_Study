{
  "nbformat": 4,
  "nbformat_minor": 0,
  "metadata": {
    "colab": {
      "provenance": [],
      "gpuType": "T4",
      "toc_visible": true
    },
    "kernelspec": {
      "name": "python3",
      "display_name": "Python 3"
    },
    "language_info": {
      "name": "python"
    },
    "accelerator": "GPU"
  },
  "cells": [
    {
      "cell_type": "markdown",
      "source": [
        "# 원-핫 표현"
      ],
      "metadata": {
        "id": "omnQ1Lj66mYd"
      }
    },
    {
      "cell_type": "markdown",
      "source": [
        "## 코드 1-1. 사이킷런을 사용하여 원-핫 벡터 또는 이진 표현 만들기"
      ],
      "metadata": {
        "id": "Zh3g9ofq9nhv"
      }
    },
    {
      "cell_type": "code",
      "execution_count": 6,
      "metadata": {
        "colab": {
          "base_uri": "https://localhost:8080/",
          "height": 448
        },
        "id": "RBFVZ0xU9fqE",
        "outputId": "e6ee7c20-8831-47e2-d13a-7464f1eb6b3a"
      },
      "outputs": [
        {
          "output_type": "execute_result",
          "data": {
            "text/plain": [
              "<Axes: >"
            ]
          },
          "metadata": {},
          "execution_count": 6
        },
        {
          "output_type": "display_data",
          "data": {
            "text/plain": [
              "<Figure size 640x480 with 1 Axes>"
            ],
            "image/png": "[encoded data removed]"
          },
          "metadata": {}
        }
      ],
      "source": [
        "from sklearn.feature_extraction.text import CountVectorizer\n",
        "import seaborn as sns\n",
        "\n",
        "# corpus = 말뭉치\n",
        "corpus = ['Time files like an arrow.',\n",
        "          'Fruit files like a banana.']\n",
        "\n",
        "# binary = True로 해서 원-핫 인코딩 진행\n",
        "one_hot_vectorizer = CountVectorizer(binary = True)\n",
        "\n",
        "# CountVectorizer는 희소 행렬(sparse matrix)을 반환하므로 toarray() 메서드를 사용해 밀집 행렬(dense matrix)로 변환\n",
        "one_hot = one_hot_vectorizer.fit_transform(corpus).toarray()\n",
        "vocab = one_hot_vectorizer.get_feature_names_out()\n",
        "\n",
        "sns.heatmap(one_hot, annot = True,\n",
        "            cbar = False, xticklabels = vocab,\n",
        "            yticklabels = ['Sentence 1', 'Sentence 2'])"
      ]
    },
    {
      "cell_type": "markdown",
      "source": [
        "# TF-IDF 표현"
      ],
      "metadata": {
        "id": "sN1axFFd6r98"
      }
    },
    {
      "cell_type": "markdown",
      "source": [
        "## 코드 1-2. 사이킷런을 사용해 TF-IDF 표현 만들기"
      ],
      "metadata": {
        "id": "s51xZf1Bwac5"
      }
    },
    {
      "cell_type": "code",
      "source": [
        "from sklearn.feature_extraction.text import TfidfVectorizer\n",
        "import seaborn as sns\n",
        "\n",
        "tfidf_vectorizer = TfidfVectorizer()\n",
        "tfidf = tfidf_vectorizer.fit_transform(corpus).toarray()\n",
        "\n",
        "sns.heatmap(tfidf, annot = True, cbar = False, xticklabels = vocab,\n",
        "            yticklabels = ['Sentence 1', 'Sentence 2'])"
      ],
      "metadata": {
        "id": "WRkq_-pp-ook",
        "colab": {
          "base_uri": "https://localhost:8080/",
          "height": 448
        },
        "outputId": "9d3ba277-e673-4a25-c107-c9c235052bc1"
      },
      "execution_count": 7,
      "outputs": [
        {
          "output_type": "execute_result",
          "data": {
            "text/plain": [
              "<Axes: >"
            ]
          },
          "metadata": {},
          "execution_count": 7
        },
        {
          "output_type": "display_data",
          "data": {
            "text/plain": [
              "<Figure size 640x480 with 1 Axes>"
            ],
            "image/png": "[encoded data removed]"
          },
          "metadata": {}
        }
      ]
    },
    {
      "cell_type": "markdown",
      "source": [
        "# 파이토치 기초"
      ],
      "metadata": {
        "id": "ByldmUShhpCj"
      }
    },
    {
      "cell_type": "markdown",
      "source": [
        "## 파이토치 설치"
      ],
      "metadata": {
        "id": "N8EZeR0iyj3K"
      }
    },
    {
      "cell_type": "code",
      "source": [
        "!pip3 install torch\n",
        "!pip3 install torchvision"
      ],
      "metadata": {
        "colab": {
          "base_uri": "https://localhost:8080/"
        },
        "id": "seWWasGmgHNX",
        "outputId": "3c435aaa-916d-4aba-f21a-8886fc169b21"
      },
      "execution_count": 8,
      "outputs": [
        {
          "output_type": "stream",
          "name": "stdout",
          "text": [
            "Requirement already satisfied: torch in /usr/local/lib/python3.10/dist-packages (2.1.0+cu121)\n",
            "Requirement already satisfied: filelock in /usr/local/lib/python3.10/dist-packages (from torch) (3.13.1)\n",
            "Requirement already satisfied: typing-extensions in /usr/local/lib/python3.10/dist-packages (from torch) (4.9.0)\n",
            "Requirement already satisfied: sympy in /usr/local/lib/python3.10/dist-packages (from torch) (1.12)\n",
            "Requirement already satisfied: networkx in /usr/local/lib/python3.10/dist-packages (from torch) (3.2.1)\n",
            "Requirement already satisfied: jinja2 in /usr/local/lib/python3.10/dist-packages (from torch) (3.1.3)\n",
            "Requirement already satisfied: fsspec in /usr/local/lib/python3.10/dist-packages (from torch) (2023.6.0)\n",
            "Requirement already satisfied: triton==2.1.0 in /usr/local/lib/python3.10/dist-packages (from torch) (2.1.0)\n",
            "Requirement already satisfied: MarkupSafe>=2.0 in /usr/local/lib/python3.10/dist-packages (from jinja2->torch) (2.1.5)\n",
            "Requirement already satisfied: mpmath>=0.19 in /usr/local/lib/python3.10/dist-packages (from sympy->torch) (1.3.0)\n",
            "Requirement already satisfied: torchvision in /usr/local/lib/python3.10/dist-packages (0.16.0+cu121)\n",
            "Requirement already satisfied: numpy in /usr/local/lib/python3.10/dist-packages (from torchvision) (1.23.5)\n",
            "Requirement already satisfied: requests in /usr/local/lib/python3.10/dist-packages (from torchvision) (2.31.0)\n",
            "Requirement already satisfied: torch==2.1.0 in /usr/local/lib/python3.10/dist-packages (from torchvision) (2.1.0+cu121)\n",
            "Requirement already satisfied: pillow!=8.3.*,>=5.3.0 in /usr/local/lib/python3.10/dist-packages (from torchvision) (9.4.0)\n",
            "Requirement already satisfied: filelock in /usr/local/lib/python3.10/dist-packages (from torch==2.1.0->torchvision) (3.13.1)\n",
            "Requirement already satisfied: typing-extensions in /usr/local/lib/python3.10/dist-packages (from torch==2.1.0->torchvision) (4.9.0)\n",
            "Requirement already satisfied: sympy in /usr/local/lib/python3.10/dist-packages (from torch==2.1.0->torchvision) (1.12)\n",
            "Requirement already satisfied: networkx in /usr/local/lib/python3.10/dist-packages (from torch==2.1.0->torchvision) (3.2.1)\n",
            "Requirement already satisfied: jinja2 in /usr/local/lib/python3.10/dist-packages (from torch==2.1.0->torchvision) (3.1.3)\n",
            "Requirement already satisfied: fsspec in /usr/local/lib/python3.10/dist-packages (from torch==2.1.0->torchvision) (2023.6.0)\n",
            "Requirement already satisfied: triton==2.1.0 in /usr/local/lib/python3.10/dist-packages (from torch==2.1.0->torchvision) (2.1.0)\n",
            "Requirement already satisfied: charset-normalizer<4,>=2 in /usr/local/lib/python3.10/dist-packages (from requests->torchvision) (3.3.2)\n",
            "Requirement already satisfied: idna<4,>=2.5 in /usr/local/lib/python3.10/dist-packages (from requests->torchvision) (3.6)\n",
            "Requirement already satisfied: urllib3<3,>=1.21.1 in /usr/local/lib/python3.10/dist-packages (from requests->torchvision) (2.0.7)\n",
            "Requirement already satisfied: certifi>=2017.4.17 in /usr/local/lib/python3.10/dist-packages (from requests->torchvision) (2024.2.2)\n",
            "Requirement already satisfied: MarkupSafe>=2.0 in /usr/local/lib/python3.10/dist-packages (from jinja2->torch==2.1.0->torchvision) (2.1.5)\n",
            "Requirement already satisfied: mpmath>=0.19 in /usr/local/lib/python3.10/dist-packages (from sympy->torch==2.1.0->torchvision) (1.3.0)\n"
          ]
        }
      ]
    },
    {
      "cell_type": "code",
      "source": [
        "import torch\n",
        "import torchvision"
      ],
      "metadata": {
        "id": "O9ZODA61K-sO"
      },
      "execution_count": 9,
      "outputs": []
    },
    {
      "cell_type": "markdown",
      "source": [
        "## 코드 1-3. 파이토치에서 torch.Tensor로 텐서 만들기"
      ],
      "metadata": {
        "id": "E-8JYPMCypsO"
      }
    },
    {
      "cell_type": "code",
      "source": [
        "def describe(x):\n",
        "    print('타입: {}'.format(x.type()))\n",
        "    print('크기: {}'.format(x.shape))\n",
        "    print('값: {}'.format(x))"
      ],
      "metadata": {
        "id": "iO_pMQdXLMYN"
      },
      "execution_count": 10,
      "outputs": []
    },
    {
      "cell_type": "code",
      "source": [
        "describe(torch.Tensor(2, 3))"
      ],
      "metadata": {
        "colab": {
          "base_uri": "https://localhost:8080/"
        },
        "id": "vM906maBMz8l",
        "outputId": "1ddcfdb8-21db-4267-ef5b-359d18046cf1"
      },
      "execution_count": 11,
      "outputs": [
        {
          "output_type": "stream",
          "name": "stdout",
          "text": [
            "타입: torch.FloatTensor\n",
            "크기: torch.Size([2, 3])\n",
            "값: tensor([[-4.2974e+18,  4.4252e-41, -1.0367e+21],\n",
            "        [ 4.4250e-41, -2.2835e+18,  4.4252e-41]])\n"
          ]
        }
      ]
    },
    {
      "cell_type": "markdown",
      "source": [
        "## 코드 1-4. 랜덤하게 초기화한 텐서 만들기"
      ],
      "metadata": {
        "id": "8dffhnm6y7gG"
      }
    },
    {
      "cell_type": "code",
      "source": [
        "# (0, 1) 범위의 균등 분포에서 샘플링한 값으로 랜덤하게 초기화한 텐서 만들기\n",
        "describe(torch.rand(2, 3)) # 균등 분포\n",
        "\n",
        "# '표준 정규 분포'에서 샘플링한 값으로 랜덤하게 초기화한 텐서 만들기\n",
        "describe(torch.randn(2, 3)) # 표준 정규 분포"
      ],
      "metadata": {
        "colab": {
          "base_uri": "https://localhost:8080/"
        },
        "id": "Q9BQ6KoiM6V8",
        "outputId": "176902b7-6539-4e3c-8eac-60169c8f1f95"
      },
      "execution_count": 12,
      "outputs": [
        {
          "output_type": "stream",
          "name": "stdout",
          "text": [
            "타입: torch.FloatTensor\n",
            "크기: torch.Size([2, 3])\n",
            "값: tensor([[0.1341, 0.2045, 0.1681],\n",
            "        [0.5067, 0.2400, 0.8881]])\n",
            "타입: torch.FloatTensor\n",
            "크기: torch.Size([2, 3])\n",
            "값: tensor([[-1.0098, -0.4372,  0.0789],\n",
            "        [-0.7049, -0.2460, -0.3629]])\n"
          ]
        }
      ]
    },
    {
      "cell_type": "markdown",
      "source": [
        "## 코드 1-5. filled() 메서드 사용하기"
      ],
      "metadata": {
        "id": "6whBfZeOzLNZ"
      }
    },
    {
      "cell_type": "code",
      "source": [
        "# 0으로 채운 텐서 만들기\n",
        "describe(torch.zeros(2, 3))\n",
        "\n",
        "# 1로 채운 텐서 만들기\n",
        "x = torch.ones(2, 3)\n",
        "describe(x)\n",
        "\n",
        "# 밑줄 문자(_)가 있는 파이토치 인-플레이스 메서드는 텐서값을 바꾸는 연산을 의미\n",
        "x.fill_(5)\n",
        "describe(x)"
      ],
      "metadata": {
        "colab": {
          "base_uri": "https://localhost:8080/"
        },
        "id": "EyQbwQdeNXxM",
        "outputId": "dd813e1d-680c-446e-bf36-a833b61039a3"
      },
      "execution_count": 61,
      "outputs": [
        {
          "output_type": "stream",
          "name": "stdout",
          "text": [
            "타입: torch.FloatTensor\n",
            "크기: torch.Size([2, 3])\n",
            "값: tensor([[0., 0., 0.],\n",
            "        [0., 0., 0.]])\n",
            "타입: torch.FloatTensor\n",
            "크기: torch.Size([2, 3])\n",
            "값: tensor([[1., 1., 1.],\n",
            "        [1., 1., 1.]])\n",
            "타입: torch.FloatTensor\n",
            "크기: torch.Size([2, 3])\n",
            "값: tensor([[5., 5., 5.],\n",
            "        [5., 5., 5.]])\n"
          ]
        }
      ]
    },
    {
      "cell_type": "code",
      "source": [
        "# 정규 분포\n",
        "x.normal_()\n",
        "describe(x)\n",
        "\n",
        "# 균등 분포\n",
        "x.uniform_()\n",
        "describe(x)"
      ],
      "metadata": {
        "colab": {
          "base_uri": "https://localhost:8080/"
        },
        "id": "tgE9Q0z00upT",
        "outputId": "edc68e14-feb5-459e-e543-d220d6a9cca2"
      },
      "execution_count": 63,
      "outputs": [
        {
          "output_type": "stream",
          "name": "stdout",
          "text": [
            "타입: torch.FloatTensor\n",
            "크기: torch.Size([2, 3])\n",
            "값: tensor([[ 0.8507,  1.2489,  1.8437],\n",
            "        [ 1.3093, -0.1150, -1.7961]])\n",
            "타입: torch.FloatTensor\n",
            "크기: torch.Size([2, 3])\n",
            "값: tensor([[0.0235, 0.4937, 0.4853],\n",
            "        [0.3577, 0.5840, 0.4359]])\n"
          ]
        }
      ]
    },
    {
      "cell_type": "markdown",
      "source": [
        "## 코드 1-6. 파이썬 리스트로 텐서를 만들고 초기화하기"
      ],
      "metadata": {
        "id": "6K0HgcgX1hRr"
      }
    },
    {
      "cell_type": "code",
      "source": [
        "x = torch.Tensor([[1, 2, 3],\n",
        "                  [4, 5, 6]])\n",
        "describe(x)"
      ],
      "metadata": {
        "id": "VKJcX2qVOPx7",
        "colab": {
          "base_uri": "https://localhost:8080/"
        },
        "outputId": "9e44b778-3bf1-42a2-a199-8a1dffae7dca"
      },
      "execution_count": 14,
      "outputs": [
        {
          "output_type": "stream",
          "name": "stdout",
          "text": [
            "타입: torch.FloatTensor\n",
            "크기: torch.Size([2, 3])\n",
            "값: tensor([[1., 2., 3.],\n",
            "        [4., 5., 6.]])\n"
          ]
        }
      ]
    },
    {
      "cell_type": "markdown",
      "source": [
        "## 코드 1-7. 넘파이로 텐서를 만들고 초기화하기"
      ],
      "metadata": {
        "id": "XQjqQ4k_1v2-"
      }
    },
    {
      "cell_type": "code",
      "source": [
        "import numpy as np\n",
        "\n",
        "npy = np.random.rand(2, 3)\n",
        "describe(torch.from_numpy(npy))\n",
        "# numpy 배열의 기본 데이터 타입이 float64이기 때문에 텐서 타입이 FloatTensor가 아니라 DoubleTensor이다."
      ],
      "metadata": {
        "colab": {
          "base_uri": "https://localhost:8080/"
        },
        "id": "OX5Kjw8GeBuk",
        "outputId": "9a5989d1-8c3f-4b51-f8e6-a333aee4d231"
      },
      "execution_count": 15,
      "outputs": [
        {
          "output_type": "stream",
          "name": "stdout",
          "text": [
            "타입: torch.DoubleTensor\n",
            "크기: torch.Size([2, 3])\n",
            "값: tensor([[0.6883, 0.7703, 0.6448],\n",
            "        [0.7555, 0.1260, 0.6356]], dtype=torch.float64)\n"
          ]
        }
      ]
    },
    {
      "cell_type": "markdown",
      "source": [
        "## 코드 1-8. 텐서 속성"
      ],
      "metadata": {
        "id": "jVpAXSMBhmQs"
      }
    },
    {
      "cell_type": "code",
      "source": [
        "# 특정 텐서 타입의 생성자를 직접 호출\n",
        "x = torch.FloatTensor([[1, 2, 3],\n",
        "                      [4, 5, 6]])\n",
        "describe(x)"
      ],
      "metadata": {
        "colab": {
          "base_uri": "https://localhost:8080/"
        },
        "id": "_y7ibDCbeW5r",
        "outputId": "d01b6f70-54a3-4b37-cd22-2f8a5e04d8c4"
      },
      "execution_count": 16,
      "outputs": [
        {
          "output_type": "stream",
          "name": "stdout",
          "text": [
            "타입: torch.FloatTensor\n",
            "크기: torch.Size([2, 3])\n",
            "값: tensor([[1., 2., 3.],\n",
            "        [4., 5., 6.]])\n"
          ]
        }
      ]
    },
    {
      "cell_type": "code",
      "source": [
        "x = x.long()\n",
        "describe(x)"
      ],
      "metadata": {
        "colab": {
          "base_uri": "https://localhost:8080/"
        },
        "id": "uKmClBl8ewjz",
        "outputId": "9ac1e23c-15c0-4e5d-e5a6-5a824d4481d2"
      },
      "execution_count": 17,
      "outputs": [
        {
          "output_type": "stream",
          "name": "stdout",
          "text": [
            "타입: torch.LongTensor\n",
            "크기: torch.Size([2, 3])\n",
            "값: tensor([[1, 2, 3],\n",
            "        [4, 5, 6]])\n"
          ]
        }
      ]
    },
    {
      "cell_type": "code",
      "source": [
        "# torch.tensor 메서드와 dtype 매개변수 사용\n",
        "x = torch.tensor([[1, 2, 3],[4, 5, 6]], dtype = torch.int64)\n",
        "describe(x)"
      ],
      "metadata": {
        "colab": {
          "base_uri": "https://localhost:8080/"
        },
        "id": "nnr7bPVqg6MS",
        "outputId": "92dff2e4-f8f9-4ac3-e3d4-9d88e95b7f32"
      },
      "execution_count": 18,
      "outputs": [
        {
          "output_type": "stream",
          "name": "stdout",
          "text": [
            "타입: torch.LongTensor\n",
            "크기: torch.Size([2, 3])\n",
            "값: tensor([[1, 2, 3],\n",
            "        [4, 5, 6]])\n"
          ]
        }
      ]
    },
    {
      "cell_type": "code",
      "source": [
        "x = x.float()\n",
        "describe(x)"
      ],
      "metadata": {
        "colab": {
          "base_uri": "https://localhost:8080/"
        },
        "id": "pZr01ycyhCdK",
        "outputId": "f0a8078a-b536-4fbe-c7c3-8d3932e6c631"
      },
      "execution_count": 19,
      "outputs": [
        {
          "output_type": "stream",
          "name": "stdout",
          "text": [
            "타입: torch.FloatTensor\n",
            "크기: torch.Size([2, 3])\n",
            "값: tensor([[1., 2., 3.],\n",
            "        [4., 5., 6.]])\n"
          ]
        }
      ]
    },
    {
      "cell_type": "markdown",
      "source": [
        "## 코드 1-9. 텐서 연산: 덧셈"
      ],
      "metadata": {
        "id": "d-C6OpX0him6"
      }
    },
    {
      "cell_type": "code",
      "source": [
        "x = torch.randn(2, 3)\n",
        "describe(x)"
      ],
      "metadata": {
        "colab": {
          "base_uri": "https://localhost:8080/"
        },
        "id": "zZiUxkY9haVy",
        "outputId": "920dd50e-16f1-4511-90ba-2fc85098644f"
      },
      "execution_count": 20,
      "outputs": [
        {
          "output_type": "stream",
          "name": "stdout",
          "text": [
            "타입: torch.FloatTensor\n",
            "크기: torch.Size([2, 3])\n",
            "값: tensor([[ 0.3848, -0.2701, -1.4195],\n",
            "        [-0.8391,  0.2858,  0.5547]])\n"
          ]
        }
      ]
    },
    {
      "cell_type": "code",
      "source": [
        "describe(torch.add(x, x))"
      ],
      "metadata": {
        "colab": {
          "base_uri": "https://localhost:8080/"
        },
        "id": "upaYGKVthqiS",
        "outputId": "a1b649ce-62f8-4e3e-9a15-323240eb451a"
      },
      "execution_count": 21,
      "outputs": [
        {
          "output_type": "stream",
          "name": "stdout",
          "text": [
            "타입: torch.FloatTensor\n",
            "크기: torch.Size([2, 3])\n",
            "값: tensor([[ 0.7696, -0.5403, -2.8390],\n",
            "        [-1.6783,  0.5716,  1.1094]])\n"
          ]
        }
      ]
    },
    {
      "cell_type": "code",
      "source": [
        "describe(x + x)"
      ],
      "metadata": {
        "colab": {
          "base_uri": "https://localhost:8080/"
        },
        "id": "v5TuL5R3hu7i",
        "outputId": "1aeb1326-455e-4ce1-da77-c4f8511f92c0"
      },
      "execution_count": 22,
      "outputs": [
        {
          "output_type": "stream",
          "name": "stdout",
          "text": [
            "타입: torch.FloatTensor\n",
            "크기: torch.Size([2, 3])\n",
            "값: tensor([[ 0.7696, -0.5403, -2.8390],\n",
            "        [-1.6783,  0.5716,  1.1094]])\n"
          ]
        }
      ]
    },
    {
      "cell_type": "markdown",
      "source": [
        "## 코드 1-10. 차원별 텐서 연산"
      ],
      "metadata": {
        "id": "q9xr1FH528x2"
      }
    },
    {
      "cell_type": "code",
      "source": [
        "x = torch.arange(6)\n",
        "describe(x)"
      ],
      "metadata": {
        "colab": {
          "base_uri": "https://localhost:8080/"
        },
        "id": "VE7x0OIfh0OK",
        "outputId": "1f61c0da-7958-4e38-afa8-9e8fe5b9f3ca"
      },
      "execution_count": 23,
      "outputs": [
        {
          "output_type": "stream",
          "name": "stdout",
          "text": [
            "타입: torch.LongTensor\n",
            "크기: torch.Size([6])\n",
            "값: tensor([0, 1, 2, 3, 4, 5])\n"
          ]
        }
      ]
    },
    {
      "cell_type": "code",
      "source": [
        "x = x.view(2, 3)\n",
        "describe(x)"
      ],
      "metadata": {
        "colab": {
          "base_uri": "https://localhost:8080/"
        },
        "id": "HfG2TEzfh5K6",
        "outputId": "13a46e5c-35de-412b-fa1f-596bc4abf2d3"
      },
      "execution_count": 24,
      "outputs": [
        {
          "output_type": "stream",
          "name": "stdout",
          "text": [
            "타입: torch.LongTensor\n",
            "크기: torch.Size([2, 3])\n",
            "값: tensor([[0, 1, 2],\n",
            "        [3, 4, 5]])\n"
          ]
        }
      ]
    },
    {
      "cell_type": "code",
      "source": [
        "describe(torch.sum(x, dim = 0))"
      ],
      "metadata": {
        "colab": {
          "base_uri": "https://localhost:8080/"
        },
        "id": "Ujgd4l2zh77z",
        "outputId": "e6332e16-fc09-48ea-985c-de5dc080b6e4"
      },
      "execution_count": 25,
      "outputs": [
        {
          "output_type": "stream",
          "name": "stdout",
          "text": [
            "타입: torch.LongTensor\n",
            "크기: torch.Size([3])\n",
            "값: tensor([3, 5, 7])\n"
          ]
        }
      ]
    },
    {
      "cell_type": "code",
      "source": [
        "describe(torch.sum(x, dim = 1))"
      ],
      "metadata": {
        "colab": {
          "base_uri": "https://localhost:8080/"
        },
        "id": "tQyQXBQHiSR6",
        "outputId": "278616f1-b163-4fae-a68e-5ee50b5e361b"
      },
      "execution_count": 26,
      "outputs": [
        {
          "output_type": "stream",
          "name": "stdout",
          "text": [
            "타입: torch.LongTensor\n",
            "크기: torch.Size([2])\n",
            "값: tensor([ 3, 12])\n"
          ]
        }
      ]
    },
    {
      "cell_type": "code",
      "source": [
        "# transpose() 함수는 두 번째와 세 번째의 매개변수로 전달된 차원을 전치한 텐서를 만든다.\n",
        "describe(torch.transpose(x, 0, 1))"
      ],
      "metadata": {
        "colab": {
          "base_uri": "https://localhost:8080/"
        },
        "id": "sczWjETciUua",
        "outputId": "ab1107cb-b7f9-4398-b552-6470d3a167e1"
      },
      "execution_count": 27,
      "outputs": [
        {
          "output_type": "stream",
          "name": "stdout",
          "text": [
            "타입: torch.LongTensor\n",
            "크기: torch.Size([3, 2])\n",
            "값: tensor([[0, 3],\n",
            "        [1, 4],\n",
            "        [2, 5]])\n"
          ]
        }
      ]
    },
    {
      "cell_type": "markdown",
      "source": [
        "## 코드 1-11. 텐서 슬라이싱과 인덱싱"
      ],
      "metadata": {
        "id": "P7QZBaeFinkH"
      }
    },
    {
      "cell_type": "code",
      "source": [
        "x = torch.arange(6).view(2, 3)\n",
        "describe(x)"
      ],
      "metadata": {
        "colab": {
          "base_uri": "https://localhost:8080/"
        },
        "id": "oarzOPbBibIi",
        "outputId": "ef800c37-723d-4a5a-8613-7edd637606c6"
      },
      "execution_count": 28,
      "outputs": [
        {
          "output_type": "stream",
          "name": "stdout",
          "text": [
            "타입: torch.LongTensor\n",
            "크기: torch.Size([2, 3])\n",
            "값: tensor([[0, 1, 2],\n",
            "        [3, 4, 5]])\n"
          ]
        }
      ]
    },
    {
      "cell_type": "code",
      "source": [
        "describe(x[:1, :2])"
      ],
      "metadata": {
        "colab": {
          "base_uri": "https://localhost:8080/"
        },
        "id": "PXn0sUFeirCa",
        "outputId": "20c8b2c4-f6b7-4224-f92f-250bf4592fd1"
      },
      "execution_count": 29,
      "outputs": [
        {
          "output_type": "stream",
          "name": "stdout",
          "text": [
            "타입: torch.LongTensor\n",
            "크기: torch.Size([1, 2])\n",
            "값: tensor([[0, 1]])\n"
          ]
        }
      ]
    },
    {
      "cell_type": "code",
      "source": [
        "describe(x[0, 1])"
      ],
      "metadata": {
        "colab": {
          "base_uri": "https://localhost:8080/"
        },
        "id": "JC9U44ZAiu55",
        "outputId": "982b3760-0658-4e7e-82c1-270f1b43ad11"
      },
      "execution_count": 30,
      "outputs": [
        {
          "output_type": "stream",
          "name": "stdout",
          "text": [
            "타입: torch.LongTensor\n",
            "크기: torch.Size([])\n",
            "값: 1\n"
          ]
        }
      ]
    },
    {
      "cell_type": "markdown",
      "source": [
        "## 코드 1-12. 복잡한 인덱싱, 연속적이지 않은 텐서 인덱스 참조하기"
      ],
      "metadata": {
        "id": "PxkdaSrY4gNP"
      }
    },
    {
      "cell_type": "code",
      "source": [
        "indices = torch.LongTensor([0, 2])\n",
        "describe(indices)\n",
        "describe(torch.index_select(x, dim = 1, index = indices))"
      ],
      "metadata": {
        "colab": {
          "base_uri": "https://localhost:8080/"
        },
        "id": "Eo6tpmF4i1Rh",
        "outputId": "a0284569-9941-498a-d3b1-4fe813a551fb"
      },
      "execution_count": 31,
      "outputs": [
        {
          "output_type": "stream",
          "name": "stdout",
          "text": [
            "타입: torch.LongTensor\n",
            "크기: torch.Size([2])\n",
            "값: tensor([0, 2])\n",
            "타입: torch.LongTensor\n",
            "크기: torch.Size([2, 2])\n",
            "값: tensor([[0, 2],\n",
            "        [3, 5]])\n"
          ]
        }
      ]
    },
    {
      "cell_type": "code",
      "source": [
        "indices = torch.LongTensor([0, 0])\n",
        "describe(indices)\n",
        "describe(torch.index_select(x, dim = 0, index = indices))"
      ],
      "metadata": {
        "colab": {
          "base_uri": "https://localhost:8080/"
        },
        "id": "-S9Ph0FAkGUK",
        "outputId": "4dd2779d-64fb-4568-998b-79bc577f8d76"
      },
      "execution_count": 32,
      "outputs": [
        {
          "output_type": "stream",
          "name": "stdout",
          "text": [
            "타입: torch.LongTensor\n",
            "크기: torch.Size([2])\n",
            "값: tensor([0, 0])\n",
            "타입: torch.LongTensor\n",
            "크기: torch.Size([2, 3])\n",
            "값: tensor([[0, 1, 2],\n",
            "        [0, 1, 2]])\n"
          ]
        }
      ]
    },
    {
      "cell_type": "code",
      "source": [
        "row_indices = torch.arange(2).long()\n",
        "describe(row_indices)\n",
        "col_indices = torch.LongTensor([0, 1])\n",
        "describe(col_indices)\n",
        "describe(x[row_indices, col_indices])\n",
        "\n",
        "# 인덱스는 LongTensor여야 함."
      ],
      "metadata": {
        "colab": {
          "base_uri": "https://localhost:8080/"
        },
        "id": "rpetqg3fkPUZ",
        "outputId": "cbcfa90b-d56e-455c-b005-a3145963db22"
      },
      "execution_count": 33,
      "outputs": [
        {
          "output_type": "stream",
          "name": "stdout",
          "text": [
            "타입: torch.LongTensor\n",
            "크기: torch.Size([2])\n",
            "값: tensor([0, 1])\n",
            "타입: torch.LongTensor\n",
            "크기: torch.Size([2])\n",
            "값: tensor([0, 1])\n",
            "타입: torch.LongTensor\n",
            "크기: torch.Size([2])\n",
            "값: tensor([0, 4])\n"
          ]
        }
      ]
    },
    {
      "cell_type": "markdown",
      "source": [
        "## 코드 1-13. 텐서 연결"
      ],
      "metadata": {
        "id": "qLWbCBZm4-Ne"
      }
    },
    {
      "cell_type": "code",
      "source": [
        "x = torch.arange(6).view(2, 3)\n",
        "describe(x)"
      ],
      "metadata": {
        "colab": {
          "base_uri": "https://localhost:8080/"
        },
        "id": "8WpIBZrblRdI",
        "outputId": "abcdf740-863e-4399-eb14-855629829732"
      },
      "execution_count": 34,
      "outputs": [
        {
          "output_type": "stream",
          "name": "stdout",
          "text": [
            "타입: torch.LongTensor\n",
            "크기: torch.Size([2, 3])\n",
            "값: tensor([[0, 1, 2],\n",
            "        [3, 4, 5]])\n"
          ]
        }
      ]
    },
    {
      "cell_type": "code",
      "source": [
        "describe(torch.cat([x, x], dim = 0))"
      ],
      "metadata": {
        "colab": {
          "base_uri": "https://localhost:8080/"
        },
        "id": "fQUH8I49mF_g",
        "outputId": "4ea65671-071c-4519-aa7c-ae15ade596d6"
      },
      "execution_count": 35,
      "outputs": [
        {
          "output_type": "stream",
          "name": "stdout",
          "text": [
            "타입: torch.LongTensor\n",
            "크기: torch.Size([4, 3])\n",
            "값: tensor([[0, 1, 2],\n",
            "        [3, 4, 5],\n",
            "        [0, 1, 2],\n",
            "        [3, 4, 5]])\n"
          ]
        }
      ]
    },
    {
      "cell_type": "code",
      "source": [
        "describe(torch.cat([x, x], dim = 1))"
      ],
      "metadata": {
        "colab": {
          "base_uri": "https://localhost:8080/"
        },
        "id": "FavuC-ZemJaI",
        "outputId": "6c57edd9-cb0e-47df-e1ad-fab515e23a97"
      },
      "execution_count": 36,
      "outputs": [
        {
          "output_type": "stream",
          "name": "stdout",
          "text": [
            "타입: torch.LongTensor\n",
            "크기: torch.Size([2, 6])\n",
            "값: tensor([[0, 1, 2, 0, 1, 2],\n",
            "        [3, 4, 5, 3, 4, 5]])\n"
          ]
        }
      ]
    },
    {
      "cell_type": "code",
      "source": [
        "describe(torch.stack([x, x]))"
      ],
      "metadata": {
        "colab": {
          "base_uri": "https://localhost:8080/"
        },
        "id": "Z7zruSEcmPjQ",
        "outputId": "9cfee712-5521-445b-ef51-e6ff35f0ae9d"
      },
      "execution_count": 37,
      "outputs": [
        {
          "output_type": "stream",
          "name": "stdout",
          "text": [
            "타입: torch.LongTensor\n",
            "크기: torch.Size([2, 2, 3])\n",
            "값: tensor([[[0, 1, 2],\n",
            "         [3, 4, 5]],\n",
            "\n",
            "        [[0, 1, 2],\n",
            "         [3, 4, 5]]])\n"
          ]
        }
      ]
    },
    {
      "cell_type": "markdown",
      "source": [
        "## 코드 1-14. 텐서의 선형 대수 계산: 행렬 곱셈"
      ],
      "metadata": {
        "id": "mEYVKT7F5KTD"
      }
    },
    {
      "cell_type": "code",
      "source": [
        "x1 = torch.arange(6).view(2, 3)\n",
        "x1 = x1.float()\n",
        "describe(x1)"
      ],
      "metadata": {
        "colab": {
          "base_uri": "https://localhost:8080/"
        },
        "id": "CK6lAuA9mTHA",
        "outputId": "1278b7ce-d81e-442d-8ae2-a84d85ee65a9"
      },
      "execution_count": 38,
      "outputs": [
        {
          "output_type": "stream",
          "name": "stdout",
          "text": [
            "타입: torch.FloatTensor\n",
            "크기: torch.Size([2, 3])\n",
            "값: tensor([[0., 1., 2.],\n",
            "        [3., 4., 5.]])\n"
          ]
        }
      ]
    },
    {
      "cell_type": "code",
      "source": [
        "x2 = torch.ones(3, 2)\n",
        "x2[:, 1] += 1\n",
        "describe(x2)"
      ],
      "metadata": {
        "colab": {
          "base_uri": "https://localhost:8080/"
        },
        "id": "s89whXoRmZ3A",
        "outputId": "3dd5320e-41c9-42fd-dbd0-0e8b6bf3b979"
      },
      "execution_count": 39,
      "outputs": [
        {
          "output_type": "stream",
          "name": "stdout",
          "text": [
            "타입: torch.FloatTensor\n",
            "크기: torch.Size([3, 2])\n",
            "값: tensor([[1., 2.],\n",
            "        [1., 2.],\n",
            "        [1., 2.]])\n"
          ]
        }
      ]
    },
    {
      "cell_type": "code",
      "source": [
        "describe(torch.mm(x1, x2))"
      ],
      "metadata": {
        "colab": {
          "base_uri": "https://localhost:8080/"
        },
        "id": "zr4iaMrCmg6I",
        "outputId": "146fb97e-af8d-4a82-afa5-cb740c7d7530"
      },
      "execution_count": 40,
      "outputs": [
        {
          "output_type": "stream",
          "name": "stdout",
          "text": [
            "타입: torch.FloatTensor\n",
            "크기: torch.Size([2, 2])\n",
            "값: tensor([[ 3.,  6.],\n",
            "        [12., 24.]])\n"
          ]
        }
      ]
    },
    {
      "cell_type": "markdown",
      "source": [
        "## 코드 1-15. 그레디언트 연산을 할 수 있는 텐서 만들기"
      ],
      "metadata": {
        "id": "lsu90cnpm5QF"
      }
    },
    {
      "cell_type": "code",
      "source": [
        "# requires_grad 불리언 매개변수를 True로 하면 그래디언트 기반 학습에 필요한 손실 함수와 텐서의 그래디언트를 기록하는 부가 연산을 활성화함\n",
        "\n",
        "x = torch.ones(2, 2, requires_grad = True)\n",
        "describe(x)\n",
        "print(x.grad is None)"
      ],
      "metadata": {
        "colab": {
          "base_uri": "https://localhost:8080/"
        },
        "id": "TyvGLoBxmlxA",
        "outputId": "dd3a41be-7f7a-4abf-fbe1-fc9c44164a1e"
      },
      "execution_count": 41,
      "outputs": [
        {
          "output_type": "stream",
          "name": "stdout",
          "text": [
            "타입: torch.FloatTensor\n",
            "크기: torch.Size([2, 2])\n",
            "값: tensor([[1., 1.],\n",
            "        [1., 1.]], requires_grad=True)\n",
            "True\n"
          ]
        }
      ]
    },
    {
      "cell_type": "code",
      "source": [
        "y = (x + 2) * (x + 5) + 3\n",
        "describe(y)\n",
        "print(x.grad is None)"
      ],
      "metadata": {
        "colab": {
          "base_uri": "https://localhost:8080/"
        },
        "id": "gF3PEsmBnMtw",
        "outputId": "0efdf052-ef6d-4e64-92fa-1c3f924cf44d"
      },
      "execution_count": 42,
      "outputs": [
        {
          "output_type": "stream",
          "name": "stdout",
          "text": [
            "타입: torch.FloatTensor\n",
            "크기: torch.Size([2, 2])\n",
            "값: tensor([[21., 21.],\n",
            "        [21., 21.]], grad_fn=<AddBackward0>)\n",
            "True\n"
          ]
        }
      ]
    },
    {
      "cell_type": "code",
      "source": [
        "z = y.mean()\n",
        "describe(z)\n",
        "z.backward()\n",
        "print(x.grad is None)"
      ],
      "metadata": {
        "colab": {
          "base_uri": "https://localhost:8080/"
        },
        "id": "xVgnQxocnRlg",
        "outputId": "bfd68069-3385-4bd5-9477-0ef49cb1e580"
      },
      "execution_count": 43,
      "outputs": [
        {
          "output_type": "stream",
          "name": "stdout",
          "text": [
            "타입: torch.FloatTensor\n",
            "크기: torch.Size([])\n",
            "값: 21.0\n",
            "False\n"
          ]
        }
      ]
    },
    {
      "cell_type": "code",
      "source": [
        "x.grad"
      ],
      "metadata": {
        "colab": {
          "base_uri": "https://localhost:8080/"
        },
        "id": "MIpr0WYjnkpX",
        "outputId": "1df6ff18-6982-4983-dae3-9d60d4531ee1"
      },
      "execution_count": 44,
      "outputs": [
        {
          "output_type": "execute_result",
          "data": {
            "text/plain": [
              "tensor([[2.2500, 2.2500],\n",
              "        [2.2500, 2.2500]])"
            ]
          },
          "metadata": {},
          "execution_count": 44
        }
      ]
    },
    {
      "cell_type": "markdown",
      "source": [
        "## 코드 1-16. CUDA 텐서 만들기"
      ],
      "metadata": {
        "id": "SjtbAqovogp_"
      }
    },
    {
      "cell_type": "code",
      "source": [
        "print(torch.cuda.is_available())"
      ],
      "metadata": {
        "colab": {
          "base_uri": "https://localhost:8080/"
        },
        "id": "5n77jEO4ofDH",
        "outputId": "7bd8f061-e9a3-4d15-9251-b81351246f33"
      },
      "execution_count": 45,
      "outputs": [
        {
          "output_type": "stream",
          "name": "stdout",
          "text": [
            "True\n"
          ]
        }
      ]
    },
    {
      "cell_type": "code",
      "source": [
        "# 바람직한 방법: 장치에 무관한 텐서 초기\n",
        "device = torch.device(\"cuda\" if torch.cuda.is_available() else \"cpu\")\n",
        "print(device)"
      ],
      "metadata": {
        "colab": {
          "base_uri": "https://localhost:8080/"
        },
        "id": "ZqewaHV-onwP",
        "outputId": "242d2ee6-12a4-44e9-a211-336d645919c2"
      },
      "execution_count": 46,
      "outputs": [
        {
          "output_type": "stream",
          "name": "stdout",
          "text": [
            "cuda\n"
          ]
        }
      ]
    },
    {
      "cell_type": "code",
      "source": [
        "x = torch.rand(3, 3).to(device)\n",
        "describe(x)"
      ],
      "metadata": {
        "colab": {
          "base_uri": "https://localhost:8080/"
        },
        "id": "iwjz1QLLozM3",
        "outputId": "fe732b73-2b80-4287-a996-72281473fe29"
      },
      "execution_count": 47,
      "outputs": [
        {
          "output_type": "stream",
          "name": "stdout",
          "text": [
            "타입: torch.cuda.FloatTensor\n",
            "크기: torch.Size([3, 3])\n",
            "값: tensor([[0.3003, 0.7023, 0.2071],\n",
            "        [0.4658, 0.7263, 0.3132],\n",
            "        [0.3210, 0.1912, 0.9359]], device='cuda:0')\n"
          ]
        }
      ]
    },
    {
      "cell_type": "code",
      "source": [
        "y = torch.rand(3, 3)"
      ],
      "metadata": {
        "id": "cAxZdu4_wOk0"
      },
      "execution_count": 48,
      "outputs": []
    },
    {
      "cell_type": "code",
      "source": [
        "cpu_device = torch.device(\"cpu\")\n",
        "y = y.to(cpu_device)\n",
        "x = x.to(cpu_device)\n",
        "x + y"
      ],
      "metadata": {
        "colab": {
          "base_uri": "https://localhost:8080/"
        },
        "id": "S56-d9WVpLlP",
        "outputId": "8b214e0b-c4cf-4643-b5fe-aea3f6647708"
      },
      "execution_count": 49,
      "outputs": [
        {
          "output_type": "execute_result",
          "data": {
            "text/plain": [
              "tensor([[0.5584, 0.7224, 0.4645],\n",
              "        [0.6393, 0.9421, 0.9238],\n",
              "        [1.1120, 0.9240, 1.4316]])"
            ]
          },
          "metadata": {},
          "execution_count": 49
        }
      ]
    },
    {
      "cell_type": "markdown",
      "source": [
        "# 연습문제"
      ],
      "metadata": {
        "id": "z1jS2xRswVWC"
      }
    },
    {
      "cell_type": "markdown",
      "source": [
        "## 문제 1. 2D 텐서를 만들고 차원 0 위치에 크기가 1인 차원을 추가하세요"
      ],
      "metadata": {
        "id": "ynPzu8I3yyTH"
      }
    },
    {
      "cell_type": "code",
      "source": [
        "a = torch.rand(3, 3)\n",
        "describe(a)\n",
        "a = a.unsqueeze(0)\n",
        "describe(a)"
      ],
      "metadata": {
        "colab": {
          "base_uri": "https://localhost:8080/"
        },
        "id": "DkQTNkMxz4CR",
        "outputId": "e5b516df-449c-41a2-c964-78cf93f668ca"
      },
      "execution_count": 50,
      "outputs": [
        {
          "output_type": "stream",
          "name": "stdout",
          "text": [
            "타입: torch.FloatTensor\n",
            "크기: torch.Size([3, 3])\n",
            "값: tensor([[0.5291, 0.3153, 0.2546],\n",
            "        [0.7538, 0.7573, 0.9910],\n",
            "        [0.4155, 0.6536, 0.8115]])\n",
            "타입: torch.FloatTensor\n",
            "크기: torch.Size([1, 3, 3])\n",
            "값: tensor([[[0.5291, 0.3153, 0.2546],\n",
            "         [0.7538, 0.7573, 0.9910],\n",
            "         [0.4155, 0.6536, 0.8115]]])\n"
          ]
        }
      ]
    },
    {
      "cell_type": "markdown",
      "source": [
        "## 문제 2. 이진 텐서에 추가한 차원을 삭제하세요."
      ],
      "metadata": {
        "id": "60rQcfuLy3fw"
      }
    },
    {
      "cell_type": "code",
      "source": [
        "a = a.squeeze(0)\n",
        "describe(a)"
      ],
      "metadata": {
        "colab": {
          "base_uri": "https://localhost:8080/"
        },
        "id": "w_UwBo-Nw8kg",
        "outputId": "e28ace98-3060-4df5-ab5d-43fe94a85064"
      },
      "execution_count": 51,
      "outputs": [
        {
          "output_type": "stream",
          "name": "stdout",
          "text": [
            "타입: torch.FloatTensor\n",
            "크기: torch.Size([3, 3])\n",
            "값: tensor([[0.5291, 0.3153, 0.2546],\n",
            "        [0.7538, 0.7573, 0.9910],\n",
            "        [0.4155, 0.6536, 0.8115]])\n"
          ]
        }
      ]
    },
    {
      "cell_type": "markdown",
      "source": [
        "## 문제 3. 범위가 [3, 7]이고 크기가 5x3인 랜덤한 텐서를 만드세요."
      ],
      "metadata": {
        "id": "YJdh6Kiay37e"
      }
    },
    {
      "cell_type": "code",
      "source": [
        "b = 3 + torch.rand(5, 3) * 4\n",
        "describe(b)"
      ],
      "metadata": {
        "colab": {
          "base_uri": "https://localhost:8080/"
        },
        "id": "NU9FNCD4xRxK",
        "outputId": "55f0abe8-455d-41ce-c6f0-4b64b23abfe5"
      },
      "execution_count": 52,
      "outputs": [
        {
          "output_type": "stream",
          "name": "stdout",
          "text": [
            "타입: torch.FloatTensor\n",
            "크기: torch.Size([5, 3])\n",
            "값: tensor([[5.3042, 6.9639, 4.6467],\n",
            "        [4.1085, 5.5953, 4.4730],\n",
            "        [5.1860, 5.7432, 3.4452],\n",
            "        [6.4337, 6.6592, 4.1075],\n",
            "        [3.8710, 4.8978, 4.1895]])\n"
          ]
        }
      ]
    },
    {
      "cell_type": "markdown",
      "source": [
        "## 문제 4. 정규 분포를 사용해 텐서를 만드세요."
      ],
      "metadata": {
        "id": "6F2shg4Ny7yG"
      }
    },
    {
      "cell_type": "code",
      "source": [
        "c = torch.randn(3, 3)\n",
        "c = c.normal_()\n",
        "describe(c)"
      ],
      "metadata": {
        "colab": {
          "base_uri": "https://localhost:8080/"
        },
        "id": "fgwyeL0My739",
        "outputId": "2a4835eb-7f16-45f7-b02a-39736d685a9e"
      },
      "execution_count": 53,
      "outputs": [
        {
          "output_type": "stream",
          "name": "stdout",
          "text": [
            "타입: torch.FloatTensor\n",
            "크기: torch.Size([3, 3])\n",
            "값: tensor([[-1.4264,  1.2980,  0.7126],\n",
            "        [ 0.2138,  0.5104, -1.1531],\n",
            "        [-1.0515,  0.4026, -1.2027]])\n"
          ]
        }
      ]
    },
    {
      "cell_type": "markdown",
      "source": [
        "## 문제 5. 텐서 torch.Tensor([1, 1, 0, 1])에서 0이 아닌 원소의 인덱스를 추출하세요."
      ],
      "metadata": {
        "id": "Sacgg1Jiy7-5"
      }
    },
    {
      "cell_type": "code",
      "source": [
        "d = torch.Tensor([1, 1, 1, 0, 1])\n",
        "torch.nonzero(d)"
      ],
      "metadata": {
        "colab": {
          "base_uri": "https://localhost:8080/"
        },
        "id": "oibQjoR2y8F5",
        "outputId": "d2886e5b-e99c-413c-b9e3-cae442dbcc5e"
      },
      "execution_count": 54,
      "outputs": [
        {
          "output_type": "execute_result",
          "data": {
            "text/plain": [
              "tensor([[0],\n",
              "        [1],\n",
              "        [2],\n",
              "        [4]])"
            ]
          },
          "metadata": {},
          "execution_count": 54
        }
      ]
    },
    {
      "cell_type": "markdown",
      "source": [
        "## 문제 6. 크기가 (3, 1)인 랜덤한 텐서를 만들고 네 벌을 복사해 쌓으세요."
      ],
      "metadata": {
        "id": "mpC1VfWiy8MY"
      }
    },
    {
      "cell_type": "code",
      "source": [
        "e = torch.rand(3, 1)\n",
        "describe(e)\n",
        "e = e.expand(3, 4)\n",
        "describe(e)"
      ],
      "metadata": {
        "colab": {
          "base_uri": "https://localhost:8080/"
        },
        "id": "Y7_m4NTTy8SX",
        "outputId": "8b1ac87d-ec42-43ff-c19e-3254065bf647"
      },
      "execution_count": 55,
      "outputs": [
        {
          "output_type": "stream",
          "name": "stdout",
          "text": [
            "타입: torch.FloatTensor\n",
            "크기: torch.Size([3, 1])\n",
            "값: tensor([[0.5341],\n",
            "        [0.8003],\n",
            "        [0.3819]])\n",
            "타입: torch.FloatTensor\n",
            "크기: torch.Size([3, 4])\n",
            "값: tensor([[0.5341, 0.5341, 0.5341, 0.5341],\n",
            "        [0.8003, 0.8003, 0.8003, 0.8003],\n",
            "        [0.3819, 0.3819, 0.3819, 0.3819]])\n"
          ]
        }
      ]
    },
    {
      "cell_type": "markdown",
      "source": [
        "## 문제 7. 두 개의 2차원 행렬(a=torch.rand(3,4,5), b=torch.rand(3,5,4))의 배치 행렬 곱셈(batch matrix-matrix product)을 계산하세요."
      ],
      "metadata": {
        "id": "u-yb1KtOzClK"
      }
    },
    {
      "cell_type": "code",
      "source": [
        "a = torch.rand(3, 4, 5)\n",
        "b = torch.rand(3, 5, 4)\n",
        "torch.bmm(a, b)"
      ],
      "metadata": {
        "colab": {
          "base_uri": "https://localhost:8080/"
        },
        "id": "zHxwImZrzCuK",
        "outputId": "3db24666-fd99-45af-bf17-1fd15d22ad12"
      },
      "execution_count": 56,
      "outputs": [
        {
          "output_type": "execute_result",
          "data": {
            "text/plain": [
              "tensor([[[2.6309, 2.2600, 1.1708, 1.3579],\n",
              "         [2.6212, 2.2802, 1.3905, 1.5463],\n",
              "         [2.0481, 1.7606, 1.1143, 1.4049],\n",
              "         [2.9164, 2.5366, 1.2913, 1.8156]],\n",
              "\n",
              "        [[0.7934, 0.6955, 0.3675, 0.6213],\n",
              "         [1.9106, 1.6934, 1.5929, 2.4696],\n",
              "         [1.0746, 0.9949, 1.2816, 1.9462],\n",
              "         [1.6233, 1.3891, 1.6392, 1.9096]],\n",
              "\n",
              "        [[1.3973, 1.6162, 1.0543, 1.3404],\n",
              "         [1.2996, 1.4788, 1.0698, 1.5130],\n",
              "         [2.3025, 2.1742, 1.8501, 2.5297],\n",
              "         [1.4816, 1.4469, 1.1523, 1.4807]]])"
            ]
          },
          "metadata": {},
          "execution_count": 56
        }
      ]
    },
    {
      "cell_type": "markdown",
      "source": [
        "## 문제 8. 3차원 행렬(a=torch.rand(3,4,5))과 2차원 행렬(b=torch.rand(5,4))의 배치 행렬 곱셈을 계산하세요."
      ],
      "metadata": {
        "id": "fHVc9bB_zC3s"
      }
    },
    {
      "cell_type": "code",
      "source": [
        "a = torch.rand(3, 4, 5)\n",
        "b = torch.rand(5, 4)\n",
        "torch.matmul(a, b)"
      ],
      "metadata": {
        "colab": {
          "base_uri": "https://localhost:8080/"
        },
        "id": "TaWxyF1azDA9",
        "outputId": "4f5f1022-2a7e-40e9-a3e8-94a6cd2eddda"
      },
      "execution_count": 57,
      "outputs": [
        {
          "output_type": "execute_result",
          "data": {
            "text/plain": [
              "tensor([[[1.1904, 1.0432, 0.4376, 0.7955],\n",
              "         [1.5334, 1.4138, 0.3204, 0.7169],\n",
              "         [1.4987, 1.4103, 0.5860, 1.0638],\n",
              "         [1.2689, 1.2083, 0.6223, 1.0489]],\n",
              "\n",
              "        [[1.1477, 1.6570, 0.8239, 1.0201],\n",
              "         [1.0419, 1.4394, 0.7146, 0.8780],\n",
              "         [1.6002, 1.7655, 1.1622, 1.6399],\n",
              "         [1.3629, 1.7504, 1.0203, 1.3193]],\n",
              "\n",
              "        [[1.2654, 1.7368, 0.4452, 0.5739],\n",
              "         [1.0019, 1.0472, 0.5352, 0.8241],\n",
              "         [1.5912, 1.8143, 0.5765, 0.9150],\n",
              "         [1.5766, 1.4532, 0.4937, 0.9322]]])"
            ]
          },
          "metadata": {},
          "execution_count": 57
        }
      ]
    },
    {
      "cell_type": "code",
      "source": [
        "torch.bmm(a, b.unsqueeze(0).expand(a.size(0), *b.size()))"
      ],
      "metadata": {
        "colab": {
          "base_uri": "https://localhost:8080/"
        },
        "id": "_xKB6_vQ5m2t",
        "outputId": "e55bbe19-9b41-42af-cff9-17b60cc1e996"
      },
      "execution_count": 58,
      "outputs": [
        {
          "output_type": "execute_result",
          "data": {
            "text/plain": [
              "tensor([[[1.1904, 1.0432, 0.4376, 0.7955],\n",
              "         [1.5334, 1.4138, 0.3204, 0.7169],\n",
              "         [1.4987, 1.4103, 0.5860, 1.0638],\n",
              "         [1.2689, 1.2083, 0.6223, 1.0489]],\n",
              "\n",
              "        [[1.1477, 1.6570, 0.8239, 1.0201],\n",
              "         [1.0419, 1.4394, 0.7146, 0.8780],\n",
              "         [1.6002, 1.7655, 1.1622, 1.6399],\n",
              "         [1.3629, 1.7504, 1.0203, 1.3193]],\n",
              "\n",
              "        [[1.2654, 1.7368, 0.4452, 0.5739],\n",
              "         [1.0019, 1.0472, 0.5352, 0.8241],\n",
              "         [1.5912, 1.8143, 0.5765, 0.9150],\n",
              "         [1.5766, 1.4532, 0.4937, 0.9322]]])"
            ]
          },
          "metadata": {},
          "execution_count": 58
        }
      ]
    },
    {
      "cell_type": "code",
      "source": [
        "add = b.unsqueeze(0).expand(a.size(0), *b.size())\n",
        "describe(add)"
      ],
      "metadata": {
        "colab": {
          "base_uri": "https://localhost:8080/"
        },
        "id": "oJ8Y5pJu61z3",
        "outputId": "6335ebec-d20b-4ec4-9a30-4ac4abfcf0ba"
      },
      "execution_count": 59,
      "outputs": [
        {
          "output_type": "stream",
          "name": "stdout",
          "text": [
            "타입: torch.FloatTensor\n",
            "크기: torch.Size([3, 5, 4])\n",
            "값: tensor([[[0.9134, 0.8368, 0.0121, 0.2442],\n",
            "         [0.5176, 0.3499, 0.3572, 0.5618],\n",
            "         [0.0456, 0.7435, 0.3853, 0.1907],\n",
            "         [0.7097, 0.4478, 0.5283, 0.9263],\n",
            "         [0.6127, 0.7820, 0.1067, 0.1587]],\n",
            "\n",
            "        [[0.9134, 0.8368, 0.0121, 0.2442],\n",
            "         [0.5176, 0.3499, 0.3572, 0.5618],\n",
            "         [0.0456, 0.7435, 0.3853, 0.1907],\n",
            "         [0.7097, 0.4478, 0.5283, 0.9263],\n",
            "         [0.6127, 0.7820, 0.1067, 0.1587]],\n",
            "\n",
            "        [[0.9134, 0.8368, 0.0121, 0.2442],\n",
            "         [0.5176, 0.3499, 0.3572, 0.5618],\n",
            "         [0.0456, 0.7435, 0.3853, 0.1907],\n",
            "         [0.7097, 0.4478, 0.5283, 0.9263],\n",
            "         [0.6127, 0.7820, 0.1067, 0.1587]]])\n"
          ]
        }
      ]
    }
  ]
}